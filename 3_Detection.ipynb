{
 "cells": [
  {
   "cell_type": "code",
   "execution_count": 2,
   "metadata": {},
   "outputs": [],
   "source": [
    "import numpy as np\n",
    "import cv2\n"
   ]
  },
  {
   "cell_type": "code",
   "execution_count": 9,
   "metadata": {},
   "outputs": [],
   "source": [
    "face_cascade = cv2.CascadeClassifier('haarcascade_frontalface_default.xml')\n",
    "cap = cv2.VideoCapture(0)\n",
    "rec = cv2.face.LBPHFaceRecognizer_create();\n",
    "rec.read(\"trainingdata.yml\")\n",
    "id=0\n",
    "# font=cv2.InitFont(cv2.CV_FONT_HERSHEY_COMPLEX_SMALL,5,1,0,4)\n",
    "while 1:\n",
    "    ret, img = cap.read()\n",
    "    img = np.array(img, dtype=np.uint8)\n",
    "    gray = cv2.cvtColor(img, cv2.COLOR_BGR2GRAY)\n",
    "    faces = face_cascade.detectMultiScale(gray, 1.5, 5)\n",
    "    for (x,y,w,h) in faces:\n",
    "        cv2.rectangle(img,(x,y),(x+w,y+h),(255,0,0),2)\n",
    "        id,conf=rec.predict(gray[y:y+h,x:x+w])\n",
    "        if id==1:\n",
    "            id=\"Person1\"\n",
    "        if id==2:\n",
    "            id=\"Person2\"\n",
    "        if id==3:\n",
    "            id=\"Person3\"\n",
    "        if id==4:\n",
    "            id=\"Person4\"\n",
    "        if id==5:\n",
    "            id=\"Person5\"\n",
    "        if id==6:\n",
    "            id=\"Person6\"   \n",
    "        if id==7:\n",
    "            id=\"Person7\"\n",
    "        if id==8:\n",
    "            id=\"Person8\"\n",
    "            \n",
    "            \n",
    "        cv2.putText(img, str(id)+\"=\"+str(conf), (10, 30), cv2.FONT_HERSHEY_PLAIN,1.5 , (0,0,0),2)\n",
    "        \n",
    "    cv2.imshow('Live',img)\n",
    "    if cv2.waitKey(1) == ord('q'):\n",
    "        break\n",
    "cap.release()\n",
    "cv2.destroyAllWindows()\n"
   ]
  },
  {
   "cell_type": "code",
   "execution_count": 23,
   "metadata": {},
   "outputs": [
    {
     "data": {
      "text/plain": [
       "float"
      ]
     },
     "execution_count": 23,
     "metadata": {},
     "output_type": "execute_result"
    }
   ],
   "source": [
    "type(conf)"
   ]
  },
  {
   "cell_type": "code",
   "execution_count": null,
   "metadata": {},
   "outputs": [],
   "source": []
  }
 ],
 "metadata": {
  "kernelspec": {
   "display_name": "Python 3",
   "language": "python",
   "name": "python3"
  },
  "language_info": {
   "codemirror_mode": {
    "name": "ipython",
    "version": 3
   },
   "file_extension": ".py",
   "mimetype": "text/x-python",
   "name": "python",
   "nbconvert_exporter": "python",
   "pygments_lexer": "ipython3",
   "version": "3.6.5"
  }
 },
 "nbformat": 4,
 "nbformat_minor": 2
}
